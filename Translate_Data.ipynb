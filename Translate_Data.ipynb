{
  "nbformat": 4,
  "nbformat_minor": 0,
  "metadata": {
    "colab": {
      "name": "Translate_Data.ipynb",
      "provenance": [],
      "authorship_tag": "ABX9TyOJWxngSPUH7PAV+UUDcLV8",
      "include_colab_link": true
    },
    "kernelspec": {
      "name": "python3",
      "display_name": "Python 3"
    },
    "language_info": {
      "name": "python"
    }
  },
  "cells": [
    {
      "cell_type": "markdown",
      "metadata": {
        "id": "view-in-github",
        "colab_type": "text"
      },
      "source": [
        "<a href=\"https://colab.research.google.com/github/mattdias96/google_trans_new/blob/main/Translate_Data.ipynb\" target=\"_parent\"><img src=\"https://colab.research.google.com/assets/colab-badge.svg\" alt=\"Open In Colab\"/></a>"
      ]
    },
    {
      "cell_type": "code",
      "execution_count": 12,
      "metadata": {
        "colab": {
          "base_uri": "https://localhost:8080/"
        },
        "id": "RslInKDLH_09",
        "outputId": "3a3d4273-bfbf-4636-8ea8-a6bae9bc87af"
      },
      "outputs": [
        {
          "output_type": "stream",
          "name": "stdout",
          "text": [
            "Mounted at /content/drive\n"
          ]
        }
      ],
      "source": [
        "import pandas as pd\n",
        "import numpy as np\n",
        "from itranslate import itranslate as itrans\n",
        "from google.colab import drive\n",
        "drive.mount('/content/drive')"
      ]
    },
    {
      "cell_type": "code",
      "source": [
        "df_bolsonaro = pd.read_csv('jairbolsonaro.csv')"
      ],
      "metadata": {
        "id": "389gY1NoINGl"
      },
      "execution_count": 2,
      "outputs": []
    },
    {
      "cell_type": "code",
      "source": [
        "df_bolsonaro.head()"
      ],
      "metadata": {
        "colab": {
          "base_uri": "https://localhost:8080/",
          "height": 206
        },
        "id": "SuyOQ-loISBd",
        "outputId": "36f52c39-dbd0-45af-f72e-5995f7dff4f0"
      },
      "execution_count": 3,
      "outputs": [
        {
          "output_type": "execute_result",
          "data": {
            "text/plain": [
              "                    id                                               text  \\\n",
              "0  1079955754537365504                                  FELIZ 2019 🇧🇷🇧🇷🇧🇷   \n",
              "1  1079958436211773440               Nos vemos na posse. Um forte abraço!   \n",
              "2  1080071345248051201  Não é a primeira fakenews do ano, mas vale uma...   \n",
              "3  1080132746805161985  - Palavras antes da posse!\\n- Um forte abraço ...   \n",
              "4  1080168100509687808  Dear Mr. President @realDonalTrump, I truly ap...   \n",
              "\n",
              "   retweet_count  favorite_count                created_at  \n",
              "0          19546          145806  2019-01-01T04:21:31.000Z  \n",
              "1           7118           80676  2019-01-01T04:32:10.000Z  \n",
              "2           3957           39040  2019-01-01T12:00:50.000Z  \n",
              "3          13805           94216  2019-01-01T16:04:49.000Z  \n",
              "4          19091          105325  2019-01-01T18:25:18.000Z  "
            ],
            "text/html": [
              "\n",
              "  <div id=\"df-ae5965f3-5cd0-4383-9c41-cd0e7e760c98\">\n",
              "    <div class=\"colab-df-container\">\n",
              "      <div>\n",
              "<style scoped>\n",
              "    .dataframe tbody tr th:only-of-type {\n",
              "        vertical-align: middle;\n",
              "    }\n",
              "\n",
              "    .dataframe tbody tr th {\n",
              "        vertical-align: top;\n",
              "    }\n",
              "\n",
              "    .dataframe thead th {\n",
              "        text-align: right;\n",
              "    }\n",
              "</style>\n",
              "<table border=\"1\" class=\"dataframe\">\n",
              "  <thead>\n",
              "    <tr style=\"text-align: right;\">\n",
              "      <th></th>\n",
              "      <th>id</th>\n",
              "      <th>text</th>\n",
              "      <th>retweet_count</th>\n",
              "      <th>favorite_count</th>\n",
              "      <th>created_at</th>\n",
              "    </tr>\n",
              "  </thead>\n",
              "  <tbody>\n",
              "    <tr>\n",
              "      <th>0</th>\n",
              "      <td>1079955754537365504</td>\n",
              "      <td>FELIZ 2019 🇧🇷🇧🇷🇧🇷</td>\n",
              "      <td>19546</td>\n",
              "      <td>145806</td>\n",
              "      <td>2019-01-01T04:21:31.000Z</td>\n",
              "    </tr>\n",
              "    <tr>\n",
              "      <th>1</th>\n",
              "      <td>1079958436211773440</td>\n",
              "      <td>Nos vemos na posse. Um forte abraço!</td>\n",
              "      <td>7118</td>\n",
              "      <td>80676</td>\n",
              "      <td>2019-01-01T04:32:10.000Z</td>\n",
              "    </tr>\n",
              "    <tr>\n",
              "      <th>2</th>\n",
              "      <td>1080071345248051201</td>\n",
              "      <td>Não é a primeira fakenews do ano, mas vale uma...</td>\n",
              "      <td>3957</td>\n",
              "      <td>39040</td>\n",
              "      <td>2019-01-01T12:00:50.000Z</td>\n",
              "    </tr>\n",
              "    <tr>\n",
              "      <th>3</th>\n",
              "      <td>1080132746805161985</td>\n",
              "      <td>- Palavras antes da posse!\\n- Um forte abraço ...</td>\n",
              "      <td>13805</td>\n",
              "      <td>94216</td>\n",
              "      <td>2019-01-01T16:04:49.000Z</td>\n",
              "    </tr>\n",
              "    <tr>\n",
              "      <th>4</th>\n",
              "      <td>1080168100509687808</td>\n",
              "      <td>Dear Mr. President @realDonalTrump, I truly ap...</td>\n",
              "      <td>19091</td>\n",
              "      <td>105325</td>\n",
              "      <td>2019-01-01T18:25:18.000Z</td>\n",
              "    </tr>\n",
              "  </tbody>\n",
              "</table>\n",
              "</div>\n",
              "      <button class=\"colab-df-convert\" onclick=\"convertToInteractive('df-ae5965f3-5cd0-4383-9c41-cd0e7e760c98')\"\n",
              "              title=\"Convert this dataframe to an interactive table.\"\n",
              "              style=\"display:none;\">\n",
              "        \n",
              "  <svg xmlns=\"http://www.w3.org/2000/svg\" height=\"24px\"viewBox=\"0 0 24 24\"\n",
              "       width=\"24px\">\n",
              "    <path d=\"M0 0h24v24H0V0z\" fill=\"none\"/>\n",
              "    <path d=\"M18.56 5.44l.94 2.06.94-2.06 2.06-.94-2.06-.94-.94-2.06-.94 2.06-2.06.94zm-11 1L8.5 8.5l.94-2.06 2.06-.94-2.06-.94L8.5 2.5l-.94 2.06-2.06.94zm10 10l.94 2.06.94-2.06 2.06-.94-2.06-.94-.94-2.06-.94 2.06-2.06.94z\"/><path d=\"M17.41 7.96l-1.37-1.37c-.4-.4-.92-.59-1.43-.59-.52 0-1.04.2-1.43.59L10.3 9.45l-7.72 7.72c-.78.78-.78 2.05 0 2.83L4 21.41c.39.39.9.59 1.41.59.51 0 1.02-.2 1.41-.59l7.78-7.78 2.81-2.81c.8-.78.8-2.07 0-2.86zM5.41 20L4 18.59l7.72-7.72 1.47 1.35L5.41 20z\"/>\n",
              "  </svg>\n",
              "      </button>\n",
              "      \n",
              "  <style>\n",
              "    .colab-df-container {\n",
              "      display:flex;\n",
              "      flex-wrap:wrap;\n",
              "      gap: 12px;\n",
              "    }\n",
              "\n",
              "    .colab-df-convert {\n",
              "      background-color: #E8F0FE;\n",
              "      border: none;\n",
              "      border-radius: 50%;\n",
              "      cursor: pointer;\n",
              "      display: none;\n",
              "      fill: #1967D2;\n",
              "      height: 32px;\n",
              "      padding: 0 0 0 0;\n",
              "      width: 32px;\n",
              "    }\n",
              "\n",
              "    .colab-df-convert:hover {\n",
              "      background-color: #E2EBFA;\n",
              "      box-shadow: 0px 1px 2px rgba(60, 64, 67, 0.3), 0px 1px 3px 1px rgba(60, 64, 67, 0.15);\n",
              "      fill: #174EA6;\n",
              "    }\n",
              "\n",
              "    [theme=dark] .colab-df-convert {\n",
              "      background-color: #3B4455;\n",
              "      fill: #D2E3FC;\n",
              "    }\n",
              "\n",
              "    [theme=dark] .colab-df-convert:hover {\n",
              "      background-color: #434B5C;\n",
              "      box-shadow: 0px 1px 3px 1px rgba(0, 0, 0, 0.15);\n",
              "      filter: drop-shadow(0px 1px 2px rgba(0, 0, 0, 0.3));\n",
              "      fill: #FFFFFF;\n",
              "    }\n",
              "  </style>\n",
              "\n",
              "      <script>\n",
              "        const buttonEl =\n",
              "          document.querySelector('#df-ae5965f3-5cd0-4383-9c41-cd0e7e760c98 button.colab-df-convert');\n",
              "        buttonEl.style.display =\n",
              "          google.colab.kernel.accessAllowed ? 'block' : 'none';\n",
              "\n",
              "        async function convertToInteractive(key) {\n",
              "          const element = document.querySelector('#df-ae5965f3-5cd0-4383-9c41-cd0e7e760c98');\n",
              "          const dataTable =\n",
              "            await google.colab.kernel.invokeFunction('convertToInteractive',\n",
              "                                                     [key], {});\n",
              "          if (!dataTable) return;\n",
              "\n",
              "          const docLinkHtml = 'Like what you see? Visit the ' +\n",
              "            '<a target=\"_blank\" href=https://colab.research.google.com/notebooks/data_table.ipynb>data table notebook</a>'\n",
              "            + ' to learn more about interactive tables.';\n",
              "          element.innerHTML = '';\n",
              "          dataTable['output_type'] = 'display_data';\n",
              "          await google.colab.output.renderOutput(dataTable, element);\n",
              "          const docLink = document.createElement('div');\n",
              "          docLink.innerHTML = docLinkHtml;\n",
              "          element.appendChild(docLink);\n",
              "        }\n",
              "      </script>\n",
              "    </div>\n",
              "  </div>\n",
              "  "
            ]
          },
          "metadata": {},
          "execution_count": 3
        }
      ]
    },
    {
      "cell_type": "code",
      "source": [
        "def translate_tweets(dataframe):\n",
        "  new_df = dataframe.copy()\n",
        "  for i in range(len(dataframe)):\n",
        "    try:\n",
        "      dataframe.loc[i, 'text'] = itrans(dataframe.loc[i, 'text'], to_lang ='en')\n",
        "    except:\n",
        "      pass\n",
        "  return dataframe"
      ],
      "metadata": {
        "id": "f1jEx4T9ITfH"
      },
      "execution_count": 8,
      "outputs": []
    },
    {
      "cell_type": "code",
      "source": [
        "sample_translated_bolsonaro = translate_tweets(df_bolsonaro.iloc[:100, :])"
      ],
      "metadata": {
        "colab": {
          "base_uri": "https://localhost:8080/"
        },
        "id": "X6WSwZH0KT0W",
        "outputId": "5604529e-6134-4255-cfa8-94e3c7de9f52"
      },
      "execution_count": 9,
      "outputs": [
        {
          "output_type": "stream",
          "name": "stderr",
          "text": [
            "/usr/local/lib/python3.7/dist-packages/pandas/core/indexing.py:1817: SettingWithCopyWarning: \n",
            "A value is trying to be set on a copy of a slice from a DataFrame.\n",
            "Try using .loc[row_indexer,col_indexer] = value instead\n",
            "\n",
            "See the caveats in the documentation: https://pandas.pydata.org/pandas-docs/stable/user_guide/indexing.html#returning-a-view-versus-a-copy\n",
            "  self._setitem_single_column(loc, value, pi)\n"
          ]
        }
      ]
    },
    {
      "cell_type": "code",
      "source": [
        "#sample_translated_bolsonaro.to_csv('sampled_translated_bolsonaro.csv')\n",
        "sample_translated_bolsonaro.to_csv('/content/drive/My Drive/Delete/res.png' , rgb_img)"
      ],
      "metadata": {
        "id": "MTLypp-sKbPe"
      },
      "execution_count": 11,
      "outputs": []
    },
    {
      "cell_type": "code",
      "source": [
        ""
      ],
      "metadata": {
        "id": "8B2eF_4dKy6S"
      },
      "execution_count": null,
      "outputs": []
    }
  ]
}